{
  "nbformat": 4,
  "nbformat_minor": 0,
  "metadata": {
    "colab": {
      "provenance": [],
      "mount_file_id": "1keG0H16mWQEk4Wq3UflBct4M14mpFKF0",
      "authorship_tag": "ABX9TyOrRp3/i/gnwnXvw4m7sLuW",
      "include_colab_link": true
    },
    "kernelspec": {
      "name": "python3",
      "display_name": "Python 3"
    },
    "language_info": {
      "name": "python"
    }
  },
  "cells": [
    {
      "cell_type": "markdown",
      "metadata": {
        "id": "view-in-github",
        "colab_type": "text"
      },
      "source": [
        "<a href=\"https://colab.research.google.com/github/norayehia/Devices-Price-Classification-System/blob/main/Untitled0.ipynb\" target=\"_parent\"><img src=\"https://colab.research.google.com/assets/colab-badge.svg\" alt=\"Open In Colab\"/></a>"
      ]
    },
    {
      "cell_type": "code",
      "execution_count": 1,
      "metadata": {
        "id": "6jj2LiVeXxET"
      },
      "outputs": [],
      "source": [
        "import numpy as np\n",
        "from flask import Flask, request, render_template\n",
        "import pickle"
      ]
    },
    {
      "cell_type": "code",
      "source": [
        "from flask import Flask, render_template, request\n",
        "import numpy as np  # Assuming you need NumPy for processing the input\n",
        "import pickle"
      ],
      "metadata": {
        "id": "-498_GR6aAtG"
      },
      "execution_count": 5,
      "outputs": []
    },
    {
      "cell_type": "code",
      "source": [
        "app = Flask(__name__)\n",
        "model = pickle.load(open('/content/drive/MyDrive/help/hiring/pyproject/random_forest_model.joblib', 'rb'))"
      ],
      "metadata": {
        "id": "bt_X7JvqYDy_"
      },
      "execution_count": 17,
      "outputs": []
    },
    {
      "cell_type": "code",
      "source": [
        "@app.route('/')\n",
        "def home():\n",
        "    return render_template('index.html')"
      ],
      "metadata": {
        "id": "DdNr26-DYXYt"
      },
      "execution_count": 18,
      "outputs": []
    },
    {
      "cell_type": "code",
      "source": [
        "\n",
        "@app.route('/', methods=['GET', 'POST'])\n",
        "def getprediction():\n",
        "    if request.method == 'POST':\n",
        "        # Handle form submission\n",
        "        input_data = [float(x) for x in request.form.values()]\n",
        "        final_input = [np.array(input_data)]\n",
        "        prediction = model.predict(final_input)\n",
        "        return render_template('index.html', output='Predicted Weight in KGs: {}'.format(prediction))\n",
        "    return render_template('index.html')  # Display the form initially\n",
        "\n"
      ],
      "metadata": {
        "id": "slDebObEZzOO"
      },
      "execution_count": 19,
      "outputs": []
    },
    {
      "cell_type": "code",
      "source": [
        "!pip install uwsgi\n"
      ],
      "metadata": {
        "colab": {
          "base_uri": "https://localhost:8080/"
        },
        "id": "nJGtSMkRcxh5",
        "outputId": "0779a966-2e52-4946-fa7a-cdaf5fedbe5f"
      },
      "execution_count": 16,
      "outputs": [
        {
          "output_type": "stream",
          "name": "stdout",
          "text": [
            "Collecting uwsgi\n",
            "  Downloading uwsgi-2.0.25.1.tar.gz (812 kB)\n",
            "\u001b[?25l     \u001b[90m━━━━━━━━━━━━━━━━━━━━━━━━━━━━━━━━━━━━━━━━\u001b[0m \u001b[32m0.0/812.0 kB\u001b[0m \u001b[31m?\u001b[0m eta \u001b[36m-:--:--\u001b[0m\r\u001b[2K     \u001b[91m━━━━━━━\u001b[0m\u001b[91m╸\u001b[0m\u001b[90m━━━━━━━━━━━━━━━━━━━━━━━━━━━━━━━━\u001b[0m \u001b[32m153.6/812.0 kB\u001b[0m \u001b[31m4.7 MB/s\u001b[0m eta \u001b[36m0:00:01\u001b[0m\r\u001b[2K     \u001b[90m━━━━━━━━━━━━━━━━━━━━━━━━━━━━━━━━━━━━━━━━\u001b[0m \u001b[32m812.0/812.0 kB\u001b[0m \u001b[31m15.1 MB/s\u001b[0m eta \u001b[36m0:00:00\u001b[0m\n",
            "\u001b[?25h  Preparing metadata (setup.py) ... \u001b[?25l\u001b[?25hdone\n",
            "Building wheels for collected packages: uwsgi\n",
            "  Building wheel for uwsgi (setup.py) ... \u001b[?25l\u001b[?25hdone\n",
            "  Created wheel for uwsgi: filename=uWSGI-2.0.25.1-cp310-cp310-linux_x86_64.whl size=597363 sha256=f8e35e3af1e83d08dc87049d8a91f6eb59af9ca52db90dd6a298faae0b8f8c06\n",
            "  Stored in directory: /root/.cache/pip/wheels/fc/c9/ad/b343c28723abf47ecc7b0388861ebb1a926476e4ec7c015747\n",
            "Successfully built uwsgi\n",
            "Installing collected packages: uwsgi\n",
            "Successfully installed uwsgi-2.0.25.1\n"
          ]
        }
      ]
    },
    {
      "cell_type": "code",
      "source": [
        "\n",
        "\n",
        "if __name__ == \"__main__\":\n",
        "    app.run()"
      ],
      "metadata": {
        "colab": {
          "base_uri": "https://localhost:8080/"
        },
        "id": "QHcEzdFAc0UE",
        "outputId": "ae3e7524-5bc6-4692-c92b-01ed53e29db1"
      },
      "execution_count": 21,
      "outputs": [
        {
          "output_type": "stream",
          "name": "stdout",
          "text": [
            " * Serving Flask app '__main__'\n",
            " * Debug mode: off\n"
          ]
        },
        {
          "output_type": "stream",
          "name": "stderr",
          "text": [
            "INFO:werkzeug:\u001b[31m\u001b[1mWARNING: This is a development server. Do not use it in a production deployment. Use a production WSGI server instead.\u001b[0m\n",
            " * Running on http://127.0.0.1:5000\n",
            "INFO:werkzeug:\u001b[33mPress CTRL+C to quit\u001b[0m\n"
          ]
        }
      ]
    },
    {
      "cell_type": "code",
      "source": [
        "!uwsgi --http :5000 --wsgi-file wsgi.py\n",
        "\n"
      ],
      "metadata": {
        "colab": {
          "base_uri": "https://localhost:8080/"
        },
        "id": "YDTD7JMGdQGi",
        "outputId": "2f6589fa-2c18-4827-98bf-a3811df67398"
      },
      "execution_count": 26,
      "outputs": [
        {
          "output_type": "stream",
          "name": "stdout",
          "text": [
            "*** Starting uWSGI 2.0.25.1 (64bit) on [Sun May  5 20:33:32 2024] ***\n",
            "compiled with version: 11.4.0 on 05 May 2024 20:30:21\n",
            "os: Linux-6.1.58+ #1 SMP PREEMPT_DYNAMIC Sat Nov 18 15:31:17 UTC 2023\n",
            "nodename: 5a9bf1e13577\n",
            "machine: x86_64\n",
            "clock source: unix\n",
            "pcre jit disabled\n",
            "detected number of CPU cores: 2\n",
            "current working directory: /content\n",
            "detected binary path: /usr/local/bin/uwsgi\n",
            "uWSGI running as root, you can use --uid/--gid/--chroot options\n",
            "*** WARNING: you are running uWSGI as root !!! (use the --uid flag) *** \n",
            "*** WARNING: you are running uWSGI without its master process manager ***\n",
            "your memory page size is 4096 bytes\n",
            "detected max file descriptor number: 1048576\n",
            "lock engine: pthread robust mutexes\n",
            "thunder lock: disabled (you can enable it with --thunder-lock)\n",
            "uWSGI http bound on :5000 fd 4\n",
            "spawned uWSGI http 1 (pid: 7069)\n",
            "uwsgi socket 0 bound to TCP address 127.0.0.1:38267 (port auto-assigned) fd 3\n",
            "uWSGI running as root, you can use --uid/--gid/--chroot options\n",
            "*** WARNING: you are running uWSGI as root !!! (use the --uid flag) *** \n",
            "Python version: 3.10.12 (main, Nov 20 2023, 15:14:05) [GCC 11.4.0]\n",
            "*** Python threads support is disabled. You can enable it with --enable-threads ***\n",
            "Python main interpreter initialized at 0x5571cc003b50\n",
            "uWSGI running as root, you can use --uid/--gid/--chroot options\n",
            "*** WARNING: you are running uWSGI as root !!! (use the --uid flag) *** \n",
            "your server socket listen backlog is limited to 100 connections\n",
            "your mercy for graceful operations on workers is 60 seconds\n",
            "mapped 72920 bytes (71 KB) for 1 cores\n",
            "*** Operational MODE: single process ***\n",
            "failed to open python file wsgi.py\n",
            "unable to load app 0 (mountpoint='') (callable not found or import error)\n",
            "*** no app loaded. going in full dynamic mode ***\n",
            "uWSGI running as root, you can use --uid/--gid/--chroot options\n",
            "*** WARNING: you are running uWSGI as root !!! (use the --uid flag) *** \n",
            "*** uWSGI is running in multiple interpreter mode ***\n",
            "spawned uWSGI worker 1 (and the only) (pid: 7068, cores: 1)\n"
          ]
        }
      ]
    },
    {
      "cell_type": "code",
      "source": [
        "if __name__ == \"__main__\":\n",
        "    app.run(debug=False)\n"
      ],
      "metadata": {
        "colab": {
          "base_uri": "https://localhost:8080/"
        },
        "id": "NY_mMkh2c-39",
        "outputId": "c7fe0345-4d96-45c7-f9e3-01105d6734fa"
      },
      "execution_count": 27,
      "outputs": [
        {
          "output_type": "stream",
          "name": "stdout",
          "text": [
            " * Serving Flask app '__main__'\n",
            " * Debug mode: off\n"
          ]
        },
        {
          "output_type": "stream",
          "name": "stderr",
          "text": [
            "INFO:werkzeug:\u001b[31m\u001b[1mWARNING: This is a development server. Do not use it in a production deployment. Use a production WSGI server instead.\u001b[0m\n",
            " * Running on http://127.0.0.1:5000\n",
            "INFO:werkzeug:\u001b[33mPress CTRL+C to quit\u001b[0m\n"
          ]
        }
      ]
    }
  ]
}